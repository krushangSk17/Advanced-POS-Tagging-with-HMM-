{
 "cells": [
  {
   "cell_type": "markdown",
   "metadata": {},
   "source": [
    "# CSCI 544 Natural Language Processing\n",
    "## Krushang Satani\n",
    "### Homework 2\n",
    "\n",
    "| **Due Date** | **Assignment Type** | **Submission Format** |\n",
    "|--------------|---------------------|-----------------------|\n",
    "| September 26, 2023 | Hands-on Assignment | Jupyter Notebook (.ipynb) |\n",
    "\n",
    "This assignment focuses on using Hidden Markov Models (HMMs) for part-of-speech tagging. The task involves building an HMM model using the Wall Street Journal section of the Penn Treebank. In the 'data' folder, you will find three files: 'train', 'dev', and 'test'. 'Train' and 'dev' contain sentences with human-annotated part-of-speech tags, while 'test' provides raw sentences for part-of-speech tagging prediction.\n",
    "\n",
    "**Assignment Overview:**\n",
    "- Task 1: Vocabulary Creation\n",
    "- Task 2: Hidden Markov Model (HMM) Implementation\n",
    "- Task 3/4: Part-of-Speech Tagging Prediction on 'test' data\n"
   ]
  },
  {
   "cell_type": "markdown",
   "metadata": {},
   "source": [
    "## Task 1: Vocabulary Creation (20 points)"
   ]
  },
  {
   "cell_type": "code",
   "execution_count": 1,
   "metadata": {},
   "outputs": [],
   "source": [
    "import json"
   ]
  },
  {
   "cell_type": "code",
   "execution_count": 2,
   "metadata": {},
   "outputs": [],
   "source": [
    "with open('data/train.json') as f:\n",
    "    train_data = json.load(f)"
   ]
  },
  {
   "cell_type": "markdown",
   "metadata": {},
   "source": [
    "## Converting All Words to Lowercase for Training\n",
    "\n",
    "In the provided code, all words in the input sentences are converted to lowercase for processing. This preprocessing step serves several important purposes:\n",
    "\n",
    "1. **Normalization**: Converting all words to lowercase ensures uniformity in the text data. It helps treat words like \"Word\" and \"word\" as the same, preventing the model from treating them differently due to case differences."
   ]
  },
  {
   "cell_type": "markdown",
   "metadata": {},
   "source": [
    "## Data Preprocessing: Word and Tag Frequency Analysis\n",
    "\n",
    "In this section, we perform an analysis of word and tag frequencies in the training data to gain insights into the dataset. We use the `Counter` class from the `collections` module to calculate word and tag frequencies.\n",
    "\n",
    "### Word Frequency Analysis\n",
    "\n",
    "We calculate the total number of words in the training data and determine the total number of unique words. This analysis helps us understand the vocabulary size.\n",
    "\n",
    "### Tag Frequency Analysis\n",
    "\n",
    "We also analyze the frequency of tags in the training data. This is essential for understanding the distribution of tags in the dataset.\n",
    "\n",
    "Let's start by analyzing the data.\n"
   ]
  },
  {
   "cell_type": "code",
   "execution_count": 3,
   "metadata": {},
   "outputs": [
    {
     "name": "stdout",
     "output_type": "stream",
     "text": [
      "total words in the train data: 912095\n",
      "total unique words in the train data: 38558\n",
      "Total number of sentences are: 38218\n"
     ]
    }
   ],
   "source": [
    "from collections import Counter\n",
    "\n",
    "word_freq = Counter()\n",
    "tag_freq = Counter()\n",
    "count = 0\n",
    "number_of_sentences = len(train_data)\n",
    "\n",
    "for record in train_data:\n",
    "\n",
    "    sentence = record['sentence']\n",
    "    label = record['labels']\n",
    "\n",
    "    for word in sentence:\n",
    "        count += 1\n",
    "        word_freq[word.lower()] += 1\n",
    "    \n",
    "    for tag in label:\n",
    "        tag_freq[tag] += 1\n",
    "\n",
    "total_unique_words = len(word_freq)\n",
    "tag_labels = [i for i in tag_freq]\n",
    "\n",
    "print(f'total words in the train data: {count}')\n",
    "print(f'total unique words in the train data: {total_unique_words}')\n",
    "print(f'Total number of sentences are: {number_of_sentences}')\n"
   ]
  },
  {
   "cell_type": "markdown",
   "metadata": {},
   "source": [
    "## assigning thresold value = 3"
   ]
  },
  {
   "cell_type": "markdown",
   "metadata": {},
   "source": [
    "## Handling Low-Frequency Words with `<unk>`\n",
    "\n",
    "In this section, we address the issue of low-frequency words in the training data by merging them into a special `<unk>` token. Words that appear with a frequency less than or equal to a threshold (in this case, 3) are considered low-frequency.\n",
    "\n",
    "### Word Frequency Merging\n",
    "\n",
    "We iterate through the word frequencies and identify words with counts below the threshold. These words are then merged into a single `<unk>` token, while retaining the counts for statistical purposes.\n",
    "\n",
    "This step is essential for improving the robustness of the NLP model and reducing the vocabulary size by handling infrequent words.\n",
    "\n",
    "Let's proceed with the merging process.\n"
   ]
  },
  {
   "cell_type": "code",
   "execution_count": 4,
   "metadata": {},
   "outputs": [
    {
     "name": "stdout",
     "output_type": "stream",
     "text": [
      "Total unique words after merging <unk>: 15568\n"
     ]
    }
   ],
   "source": [
    "threshold = 2\n",
    "merged_word_freq = {}\n",
    "unk_count = 0\n",
    "\n",
    "for word, count in word_freq.items():\n",
    "    if count <= threshold:\n",
    "        unk_count += count\n",
    "    else:\n",
    "        merged_word_freq[word] = count\n",
    "\n",
    "merged_word_freq['< unk >'] = unk_count\n",
    "print(f'Total unique words after merging <unk>: {len(merged_word_freq)}')\n"
   ]
  },
  {
   "cell_type": "code",
   "execution_count": 5,
   "metadata": {},
   "outputs": [
    {
     "name": "stdout",
     "output_type": "stream",
     "text": [
      "count of unknown words are: 28581\n"
     ]
    }
   ],
   "source": [
    "sorted_merged_word_freq = sorted(merged_word_freq.items(), key=lambda x: x[1], reverse=True)\n",
    "print(f'count of unknown words are: {unk_count}')"
   ]
  },
  {
   "cell_type": "markdown",
   "metadata": {},
   "source": [
    "## Saving Vocabulary to File\n",
    "\n",
    "In this section, we save the vocabulary to a text file named `vocab.txt`. The vocabulary includes both the `< unk >` token and the sorted merged word frequencies.\n",
    "\n",
    "### Vocabulary Structure\n",
    "\n",
    "- `< unk >`: A special token representing low-frequency words.\n",
    "- Other words: Sorted by frequency, with unique identifiers (indices) and their respective counts.\n",
    "\n",
    "Saving the vocabulary to a file is crucial for reference and future use in NLP tasks.\n",
    "\n",
    "Let's proceed with saving the vocabulary.\n"
   ]
  },
  {
   "cell_type": "code",
   "execution_count": 6,
   "metadata": {},
   "outputs": [],
   "source": [
    "with open('vocab.txt', 'w') as vocab_file:\n",
    "    vocab_file.write(f'< unk >\\t0\\t{unk_count}\\n')\n",
    "\n",
    "    for index, (word, freq) in enumerate(sorted_merged_word_freq):\n",
    "        if word == '< unk >':\n",
    "            continue\n",
    "        vocab_file.write(f'{word}\\t{index + 1}\\t{freq}\\n')"
   ]
  },
  {
   "cell_type": "code",
   "execution_count": 7,
   "metadata": {},
   "outputs": [
    {
     "name": "stdout",
     "output_type": "stream",
     "text": [
      "Threshold value for identifying unknown words: 2\n",
      "Overall size of the vocabulary: 15568\n",
      "Occurrences of \"<unk>\" following the replacement process: 28581\n"
     ]
    }
   ],
   "source": [
    "print(f'Threshold value for identifying unknown words: {threshold}')\n",
    "print(f'Overall size of the vocabulary: {len(sorted_merged_word_freq)}')\n",
    "print(f'Occurrences of \"<unk>\" following the replacement process: {unk_count}')"
   ]
  },
  {
   "cell_type": "markdown",
   "metadata": {},
   "source": [
    "## Task 2: Model Learning (20 points)"
   ]
  },
  {
   "cell_type": "code",
   "execution_count": 8,
   "metadata": {},
   "outputs": [],
   "source": [
    "def dictadd(dict,item):\n",
    "    if(item not in dict):\n",
    "        dict[item] = 1\n",
    "    else:\n",
    "        dict[item] += 1\n",
    "    return dict"
   ]
  },
  {
   "cell_type": "markdown",
   "metadata": {},
   "source": [
    "## HMM Probability Calculation\n",
    "\n",
    "In this section, we calculate Hidden Markov Model (HMM) probabilities:\n",
    "\n",
    "- Transition probabilities: likelihood of tag transitions.\n",
    "- Emission probabilities: likelihood of word emissions.\n",
    "- Initial probabilities: distribution of initial tags in sentences.\n",
    "\n",
    "These probabilities are crucial for part-of-speech tagging.\n",
    "\n",
    "Let's calculate these probabilities.\n"
   ]
  },
  {
   "cell_type": "code",
   "execution_count": 9,
   "metadata": {},
   "outputs": [],
   "source": [
    "transitions = {}\n",
    "emissions = {}\n",
    "initials = {}\n",
    "\n",
    "for record in train_data:\n",
    "    sentence = record['sentence']\n",
    "    labels = record['labels']\n",
    "\n",
    "    for i in range(len(sentence)-1):\n",
    "        word1, word2 = sentence[i].lower(), sentence[i+1].lower()\n",
    "        label1, label2 = labels[i],labels[i+1]\n",
    "        \n",
    "        if(word1 not in merged_word_freq): word1 = '< unk >'\n",
    "        if(word2 not in merged_word_freq): word2 = '< unk >'\n",
    "\n",
    "        if(i==0):\n",
    "            initials = dictadd(initials,label1)\n",
    "\n",
    "        transitions = dictadd(transitions, (label1,label2))\n",
    "        emissions = dictadd(emissions,(label1,word1))\n",
    "    \n",
    "    emissions = dictadd(emissions,(label2,word2))\n",
    "\n",
    "# print(transitions)\n",
    "# print(emissions)\n",
    "# print(initials)\n"
   ]
  },
  {
   "cell_type": "markdown",
   "metadata": {},
   "source": [
    "## Calculating Transition and Emission Probabilities\n",
    "\n",
    "In this section, we compute the transition and emission probabilities as well as the initial probabilities for the Hidden Markov Model (HMM). These probabilities are essential for training and using the HMM in part-of-speech tagging.\n",
    "\n",
    "### Transition Probabilities\n",
    "\n",
    "- Transition probabilities represent the likelihood of transitioning from one part-of-speech tag to another.\n",
    "- We calculate these probabilities based on tag sequences observed in the training data.\n",
    "\n",
    "### Emission Probabilities\n",
    "\n",
    "- Emission probabilities capture the probability of observing a specific word given a particular tag.\n",
    "- We calculate these probabilities by counting the occurrences of words associated with their tags.\n",
    "\n",
    "### Initial Probabilities\n",
    "\n",
    "- Initial probabilities define the probability distribution of the first tag in a sentence.\n",
    "- We determine these probabilities based on the frequency of the initial tags in the training data.\n",
    "\n",
    "Let's proceed with computing these probabilities.\n"
   ]
  },
  {
   "cell_type": "code",
   "execution_count": 10,
   "metadata": {},
   "outputs": [],
   "source": [
    "transition_probability = {}\n",
    "emission_probability = {}\n",
    "initial_probability = {}\n",
    "\n",
    "for pair in transitions:\n",
    "\n",
    "    s1,s2 = pair\n",
    "    if((s1,s2) not in transition_probability):\n",
    "        transition_probability[(s1,s2)] = transitions[(s1,s2)] / tag_freq[s1]\n",
    "\n",
    "for pair in emissions:\n",
    "\n",
    "    s1,x1 = pair\n",
    "    if((s1,x1) not in emission_probability):\n",
    "        emission_probability[(s1,x1)] = emissions[(s1,x1)] / tag_freq[s1]\n",
    "\n",
    "for ini in initials:\n",
    "    \n",
    "    if(ini not in initial_probability):\n",
    "        initial_probability[ini] = initials[ini] / number_of_sentences\n",
    "\n",
    "    \n",
    "# print(transition_probability)\n",
    "# print(emission_probability)\n",
    "# print(initial_probability)"
   ]
  },
  {
   "cell_type": "markdown",
   "metadata": {},
   "source": [
    "## Saving HMM Model to JSON\n",
    "\n",
    "In this section, we convert the Hidden Markov Model (HMM) parameters, including transition and emission probabilities, into a JSON format. The model is saved to a file named `hmm.json`.\n",
    "\n",
    "### Model Parameters\n",
    "\n",
    "- Transition probabilities represent tag transition likelihoods.\n",
    "- Emission probabilities capture word-tag likelihoods.\n",
    "\n",
    "These parameters are essential for HMM-based part-of-speech tagging.\n",
    "\n",
    "Let's save the HMM model and count the number of parameters."
   ]
  },
  {
   "cell_type": "code",
   "execution_count": 11,
   "metadata": {},
   "outputs": [
    {
     "name": "stdout",
     "output_type": "stream",
     "text": [
      "Number of transition parameters: 1351\n",
      "Number of emission parameters: 23449\n"
     ]
    }
   ],
   "source": [
    "\n",
    "transition_probability_str = {str(k): v for k, v in transition_probability.items()}\n",
    "emission_probability_str = {str(k): v for k, v in emission_probability.items()}\n",
    "\n",
    "hmm_model = {\n",
    "    \"transition\": transition_probability_str,\n",
    "    \"emission\": emission_probability_str\n",
    "}\n",
    "\n",
    "with open('hmm.json', 'w') as json_file:\n",
    "    json.dump(hmm_model, json_file, indent=4)\n",
    "\n",
    "num_transition_parameters = len(transition_probability)\n",
    "num_emission_parameters = len(emission_probability)\n",
    "\n",
    "print(f'Number of transition parameters: {num_transition_parameters}')\n",
    "print(f'Number of emission parameters: {num_emission_parameters}')\n"
   ]
  },
  {
   "cell_type": "markdown",
   "metadata": {},
   "source": [
    "## Creating Double Hashtable\n",
    "\n",
    "In this section, we define a Python function `create_double_hashtable` that creates a double hashtable from input data.\n",
    "\n",
    "### Function Signature\n",
    "\n",
    "```python\n",
    "def create_double_hashtable(data, flag=0):\n"
   ]
  },
  {
   "cell_type": "code",
   "execution_count": 12,
   "metadata": {},
   "outputs": [],
   "source": [
    "def create_double_hashtable(data, flag=0):\n",
    "    double_hashtable = {}\n",
    "\n",
    "    for key, value in data.items():\n",
    "        first_key, second_key = key\n",
    "\n",
    "        # Swap keys if flag is set to 1\n",
    "        if flag == 1:\n",
    "            first_key, second_key = second_key, first_key\n",
    "\n",
    "        if first_key not in double_hashtable:\n",
    "            double_hashtable[first_key] = {}\n",
    "        double_hashtable[first_key][second_key] = value\n",
    "\n",
    "    return double_hashtable\n",
    "\n"
   ]
  },
  {
   "cell_type": "code",
   "execution_count": 13,
   "metadata": {},
   "outputs": [],
   "source": [
    "double_emission_probability = create_double_hashtable(emission_probability,1)\n",
    "double_transition_probability = create_double_hashtable(transition_probability)\n",
    "# print(double_emission_probability)\n",
    "# print(double_transition_probability)\n",
    "# print(initial_probability)"
   ]
  },
  {
   "cell_type": "markdown",
   "metadata": {},
   "source": [
    "## Task 3: Greedy Decoding withHMM(30 points)"
   ]
  },
  {
   "cell_type": "code",
   "execution_count": 14,
   "metadata": {},
   "outputs": [],
   "source": [
    "def calculate_accuracy(correct_predictions, total_predictions):\n",
    "    accuracy = correct_predictions / total_predictions\n",
    "    return accuracy"
   ]
  },
  {
   "cell_type": "markdown",
   "metadata": {},
   "source": [
    "## Accessing Values from Nested Dictionary\n",
    "\n",
    "In this section, we define a Python function `getfromdict` for accessing values from a dictionary, including nested dictionaries.\n",
    "\n",
    "### Function Signature\n",
    "\n",
    "```python\n",
    "def getfromdict(dict, key, flag=1):\n"
   ]
  },
  {
   "cell_type": "code",
   "execution_count": 15,
   "metadata": {},
   "outputs": [],
   "source": [
    "def getfromdict(dict,key,flag=1):\n",
    "    if(flag==1):\n",
    "\n",
    "        if(key not in dict):\n",
    "            return 0\n",
    "        else:\n",
    "            return dict[key]\n",
    "    \n",
    "    if(flag == 2):\n",
    "        if(key[0] not in dict or key[1] not in dict[key[0]]):\n",
    "            return 0\n",
    "        else:\n",
    "            return dict[key[0]][key[1]]\n"
   ]
  },
  {
   "cell_type": "markdown",
   "metadata": {},
   "source": [
    "## Predicting Part-of-Speech Tags with `Greedy Decoding`\n",
    "\n",
    "In this section, we use the greedy decoding algorithm to predict part-of-speech tags for the development data. The algorithm selects the tag with the `highest local probability` for each word in a sentence.\n",
    "\n",
    "### Algorithm Description\n",
    "\n",
    "- For each sentence in the development data:\n",
    "    - We iterate through each word and calculate the local probability for each possible tag.\n",
    "    - The local probability is based on emission probabilities, transition probabilities, and initial probabilities.\n",
    "    - We select the tag with the highest local probability as the predicted tag for each word.\n",
    "    - Predicted tags are stored for each sentence in the `dev_data_predicted_tags` dictionary.\n",
    "\n",
    "This algorithm is a simple but effective way to perform part-of-speech tagging.\n",
    "\n",
    "Let's proceed with predicting the tags.\n"
   ]
  },
  {
   "cell_type": "code",
   "execution_count": 16,
   "metadata": {},
   "outputs": [],
   "source": [
    "def greedy_decoding(sentence, tag_labels, initial_probability, double_emission_probability, double_transition_probability, merged_word_freq):\n",
    "    predicted_tags = []\n",
    "    last_predicted_tag = None\n",
    "\n",
    "    for i, word in enumerate(sentence):\n",
    "        word = word.lower()\n",
    "        if word not in merged_word_freq:\n",
    "            word = '< unk >'\n",
    "\n",
    "        semi_local_prob = -1\n",
    "        semi_pred_tag = None\n",
    "\n",
    "        if i == 0:\n",
    "            for tag in tag_labels:\n",
    "                local_prob = getfromdict(initial_probability, tag) * getfromdict(double_emission_probability, (word, tag), 2)\n",
    "                if local_prob > semi_local_prob:\n",
    "                    semi_local_prob = local_prob\n",
    "                    semi_pred_tag = tag\n",
    "        else:\n",
    "            for tag in tag_labels:\n",
    "                local_prob = getfromdict(double_emission_probability, (word, tag), 2) * getfromdict(double_transition_probability, (last_predicted_tag, tag), 2)\n",
    "\n",
    "                if local_prob > semi_local_prob:\n",
    "                    semi_local_prob = local_prob\n",
    "                    semi_pred_tag = tag\n",
    "\n",
    "        last_predicted_tag = semi_pred_tag\n",
    "        predicted_tags.append(last_predicted_tag)\n",
    "\n",
    "    return predicted_tags\n"
   ]
  },
  {
   "cell_type": "markdown",
   "metadata": {},
   "source": [
    "## Evaluating Greedy Decoding Accuracy\n",
    "\n",
    "In this section, we evaluate the accuracy of the greedy decoding algorithm on the development data. We compare the predicted part-of-speech tags with the ground truth labels.\n",
    "\n",
    "### Evaluation Process\n",
    "\n",
    "- For each sentence in the development data:\n",
    "    - We compare the predicted part-of-speech tags with the ground truth labels.\n",
    "    - Correct predictions are counted to calculate accuracy.\n",
    "\n",
    "### Accuracy Calculation\n",
    "\n",
    "- We calculate the accuracy as the ratio of correct predictions to the total number of predictions.\n",
    "\n",
    "Let's calculate and report the accuracy for the greedy decoding algorithm on the development data.\n"
   ]
  },
  {
   "cell_type": "code",
   "execution_count": 17,
   "metadata": {},
   "outputs": [],
   "source": [
    "with open('data/dev.json') as f:\n",
    "    dev_data = json.load(f)\n",
    "\n",
    "dev_data_predicted_tags = {}\n",
    "\n",
    "for record in dev_data:\n",
    "    index_value = record['index']\n",
    "    predicted_tags = greedy_decoding(\n",
    "        record['sentence'], tag_labels, initial_probability, double_emission_probability, double_transition_probability, merged_word_freq)\n",
    "    dev_data_predicted_tags[index_value] = predicted_tags\n"
   ]
  },
  {
   "cell_type": "code",
   "execution_count": 18,
   "metadata": {},
   "outputs": [
    {
     "name": "stdout",
     "output_type": "stream",
     "text": [
      "Accuracy for Greedy decoding on Dev data is: 0.9153436342662862\n"
     ]
    }
   ],
   "source": [
    "correct_predictions = 0\n",
    "total_predictions = 0\n",
    "\n",
    "for record in dev_data:\n",
    "\n",
    "    words  = record['sentence']\n",
    "    labels = record['labels']\n",
    "\n",
    "    pred_labels = dev_data_predicted_tags[record['index']]\n",
    "\n",
    "    for i in range(len(words)):\n",
    "        total_predictions += 1\n",
    "        if(labels[i] == pred_labels[i]):\n",
    "            correct_predictions += 1\n",
    "\n",
    "Greedy_accuracy = calculate_accuracy(correct_predictions,total_predictions)\n",
    "print(f'Accuracy for Greedy decoding on Dev data is: {Greedy_accuracy}')"
   ]
  },
  {
   "cell_type": "markdown",
   "metadata": {},
   "source": [
    "## Predict the part-of-speech tags of the sentences in the test data and output the predictions in a file named greedy.json, in the same format of training data."
   ]
  },
  {
   "cell_type": "markdown",
   "metadata": {},
   "source": [
    "### Motivation and Plan\n",
    "\n",
    "**Motivation:**\n",
    "This code aims to predict part-of-speech tags for a set of sentences using a greedy decoding approach.\n",
    "\n",
    "**Plan:**\n",
    "1. Load test data from 'test.json'.\n",
    "2. Initialize data structures for storing predictions.\n",
    "3. Iterate through each sentence in the test data.\n",
    "4. Predict part-of-speech tags using 'greedy_decoding'.\n",
    "5. Store predictions in a JSON file named 'greedy.json'.\n"
   ]
  },
  {
   "cell_type": "code",
   "execution_count": 19,
   "metadata": {},
   "outputs": [],
   "source": [
    "with open('data/test.json') as f:\n",
    "    test_data = json.load(f)\n",
    "\n",
    "test_data_predicted_tags = {}\n",
    "greedy_dict_array = []\n",
    "\n",
    "for record in test_data:\n",
    "    index_value = record['index']\n",
    "    predicted_tags = greedy_decoding(\n",
    "        record['sentence'], tag_labels, initial_probability, double_emission_probability, double_transition_probability, merged_word_freq)\n",
    "    \n",
    "    test_data_predicted_tags[index_value] = predicted_tags\n",
    "    greedy_dict_array.append({\"index\": index_value,\n",
    "                              \"sentence\": record['sentence'],\n",
    "                              \"labels\": predicted_tags})\n",
    "\n",
    "with open('greedy.json', 'w') as json_file:\n",
    "    json.dump(greedy_dict_array, json_file, indent=4)\n"
   ]
  },
  {
   "cell_type": "markdown",
   "metadata": {},
   "source": [
    "## Task 4: Viterbi Decoding withHMM(30 Points)\n",
    "#### The fourth task is to implement the viterbi decoding algorithm with HMM."
   ]
  },
  {
   "cell_type": "markdown",
   "metadata": {},
   "source": [
    "**Modified Viterbi Decoding Function Explanation**\n",
    "\n",
    "- **Objective:** This function computes Viterbi decoding for a given sentence using Hidden Markov Model (HMM) parameters.\n",
    "\n",
    "- **Data Structures:** The function utilizes two dictionaries, `Pi` and `Backtrack`, for storing probabilities and backtrack information.\n",
    "\n",
    "- **Word-by-Word Processing:**\n",
    "  - The function iterates through each word in the input sentence.\n",
    "  - It computes probabilities for each possible tag associated with the word.\n",
    "  \n",
    "- **Handling the Initial Word:**\n",
    "  - For the initial word (when `i == 0`), it initializes probabilities based on initial state and emission probabilities.\n",
    "  - It also initializes the `Backtrack` dictionary for this word.\n",
    "\n",
    "- **Handling Subsequent Words:**\n",
    "  - For subsequent words (when `i > 0`), it calculates probabilities considering transition, emission, and previous probabilities.\n",
    "  - Updates both `Pi` and `Backtrack` dictionaries accordingly.\n",
    "\n",
    "- **Tracking the Most Probable Sequence:**\n",
    "  - Throughout the process, the function keeps track of the most probable tag sequence using the `Backtrack` dictionary.\n",
    "\n",
    "- **Final Tag for the Sentence:**\n",
    "  - The function identifies the most probable tag for the last word in the sentence.\n",
    "  - It then appends this tag to the tag sequence before returning it.\n",
    "  \n",
    "- **Note:** The modification made to the original function ensures that the most probable final tag is included in the returned tag sequence. This can be valuable when you want to include the most likely tag for the last word in your output.\n",
    "\n",
    "This function is crucial for tasks like part-of-speech tagging and other sequence labeling tasks in the field of natural language processing.\n"
   ]
  },
  {
   "cell_type": "code",
   "execution_count": 20,
   "metadata": {},
   "outputs": [],
   "source": [
    "def viterbi_decoding(sentence, tag_labels, initial_probability, double_emission_probability, double_transition_probability, merged_word_freq):\n",
    "    \n",
    "    Pi = {}\n",
    "    Backtrack = {}\n",
    "\n",
    "    for i,word in enumerate(sentence):\n",
    "        \n",
    "        word = word.lower()\n",
    "        if word not in merged_word_freq:\n",
    "            word = '< unk >'\n",
    "        \n",
    "        Pi[i] = {}   \n",
    "        Backtrack[i] = {} \n",
    "\n",
    "        if(i == 0):\n",
    "            for tag in tag_labels:\n",
    "                Pi[i][tag] = getfromdict(initial_probability, tag) * getfromdict(double_emission_probability, (word, tag), 2)\n",
    "                Backtrack[i][tag] = []\n",
    "        else:\n",
    "            for tag in tag_labels:\n",
    "\n",
    "                Pi[i][tag] = -1\n",
    "                for prev_tag in tag_labels:\n",
    "\n",
    "                    local_prob = Pi[i-1][prev_tag] * getfromdict(double_transition_probability, (prev_tag, tag), 2) * getfromdict(double_emission_probability, (word, tag), 2)\n",
    "                    \n",
    "                    if(local_prob > Pi[i][tag]):\n",
    "                        Pi[i][tag] = local_prob\n",
    "                        prev_final_tag = prev_tag\n",
    "                \n",
    "                Backtrack[i][tag] = [prev_final_tag] + Backtrack[i-1][prev_final_tag]\n",
    "\n",
    "    lastEntryCount = len(sentence)-1\n",
    "\n",
    "    max_tag_prob = -1\n",
    "    max_tag = None\n",
    "\n",
    "    for i in Pi[lastEntryCount]:\n",
    "        tag_prob = Pi[lastEntryCount][i]\n",
    "        if(tag_prob>max_tag_prob):\n",
    "            max_tag_prob = tag_prob\n",
    "            max_tag = i\n",
    "        \n",
    "    return Backtrack[lastEntryCount][max_tag][::-1] + [max_tag]"
   ]
  },
  {
   "cell_type": "markdown",
   "metadata": {},
   "source": [
    "**Loading and Predicting with Viterbi Decoding on Dev Data**\n",
    "\n",
    "- **Data Loading:** The code starts by loading data from the 'dev.json' file using a `with open` block. The loaded data is stored in the `dev_data` dictionary.\n",
    "\n",
    "- **Prediction Loop:** Next, the code initializes an empty dictionary called `viterbi_dev_data_predicted_tags` to store predicted tag sequences for each sentence in the dev data.\n",
    "\n",
    "- **Prediction Process:** It then iterates through each record in the `dev_data` dictionary. For each record:\n",
    "  - It extracts the 'index' value, which appears to be an identifier.\n",
    "  - It calls the `viterbi_decoding` function to predict the tag sequence for the 'sentence' in the record. The function is provided with various HMM parameters and data structures.\n",
    "  - The predicted tag sequence is stored in the `viterbi_dev_data_predicted_tags` dictionary with the 'index' as the key.\n",
    "\n",
    "This code performs Viterbi decoding on the dev data, generating predicted tag sequences for each sentence. These predicted tags can be further evaluated and compared against ground truth labels to assess the model's performance on the development dataset.\n"
   ]
  },
  {
   "cell_type": "code",
   "execution_count": 21,
   "metadata": {},
   "outputs": [],
   "source": [
    "with open('data/dev.json') as f:\n",
    "    dev_data = json.load(f)\n",
    "\n",
    "viterbi_dev_data_predicted_tags = {}\n",
    "\n",
    "for record in dev_data:\n",
    "    index_value = record['index']\n",
    "    predicted_tags = viterbi_decoding(\n",
    "        record['sentence'], tag_labels, initial_probability, double_emission_probability, double_transition_probability, merged_word_freq)\n",
    "    viterbi_dev_data_predicted_tags[index_value] = predicted_tags\n"
   ]
  },
  {
   "cell_type": "markdown",
   "metadata": {},
   "source": [
    "**Calculating Viterbi Decoding Accuracy on Dev Data**\n",
    "\n",
    "- **Objective:** This code computes the accuracy of Viterbi decoding results on the dev data.\n",
    "\n",
    "- **Accuracy Calculation:** The code iterates through dev data records, comparing predicted labels to ground truth labels. It counts correct predictions and tracks total predictions.\n",
    "\n",
    "- **Accuracy Display:** The final accuracy for Viterbi decoding on the dev data is calculated and displayed.\n",
    "\n",
    "This code assesses the model's performance on the dev data by measuring how accurately it predicts labels.\n"
   ]
  },
  {
   "cell_type": "code",
   "execution_count": 22,
   "metadata": {},
   "outputs": [
    {
     "name": "stdout",
     "output_type": "stream",
     "text": [
      "Accuracy for Viterbi decoding on Dev data is: 0.9320851800133568\n"
     ]
    }
   ],
   "source": [
    "correct_predictions = 0\n",
    "total_predictions = 0\n",
    "\n",
    "for record in dev_data:\n",
    "\n",
    "    words  = record['sentence']\n",
    "    labels = record['labels']\n",
    "\n",
    "    pred_labels = viterbi_dev_data_predicted_tags[record['index']]\n",
    "\n",
    "    for i in range(len(words)):\n",
    "        total_predictions += 1\n",
    "        if(labels[i] == pred_labels[i]):\n",
    "            correct_predictions += 1\n",
    "\n",
    "viterbi_accuracy = calculate_accuracy(correct_predictions,total_predictions)\n",
    "print(f'Accuracy for Viterbi decoding on Dev data is: {viterbi_accuracy}')"
   ]
  },
  {
   "cell_type": "markdown",
   "metadata": {},
   "source": [
    "**Generating Viterbi Decoding Results for Test Data**\n",
    "\n",
    "- **Objective:** This code generates Viterbi decoding results for the test data and saves them to a JSON file.\n",
    "\n",
    "- **Processing Test Data:** The code loads the test data from a JSON file and iterates through each record.\n",
    "\n",
    "- **Viterbi Decoding:** For each record, Viterbi decoding is performed using the specified Hidden Markov Model (HMM) parameters.\n",
    "\n",
    "- **Results Storage:** The predicted tags for each record are stored in a dictionary and saved to a JSON file.\n",
    "\n",
    "This code is responsible for applying Viterbi decoding to the test data and saving the results for further analysis or evaluation.\n"
   ]
  },
  {
   "cell_type": "code",
   "execution_count": 23,
   "metadata": {},
   "outputs": [],
   "source": [
    "with open('data/test.json') as f:\n",
    "    test_data = json.load(f)\n",
    "\n",
    "viterbi_test_data_predicted_tags = {}\n",
    "viterbi_dict_array = []\n",
    "\n",
    "for record in test_data:\n",
    "    index_value = record['index']\n",
    "    predicted_tags = viterbi_decoding(\n",
    "        record['sentence'], tag_labels, initial_probability, double_emission_probability, double_transition_probability, merged_word_freq)\n",
    "    \n",
    "    viterbi_test_data_predicted_tags[index_value] = predicted_tags\n",
    "    viterbi_dict_array.append({\"index\": index_value,\n",
    "                              \"sentence\": record['sentence'],\n",
    "                              \"labels\": predicted_tags})\n",
    "\n",
    "with open('viterbi.json', 'w') as json_file:\n",
    "    json.dump(viterbi_dict_array, json_file, indent=4)\n"
   ]
  }
 ],
 "metadata": {
  "kernelspec": {
   "display_name": "Python 3",
   "language": "python",
   "name": "python3"
  },
  "language_info": {
   "codemirror_mode": {
    "name": "ipython",
    "version": 3
   },
   "file_extension": ".py",
   "mimetype": "text/x-python",
   "name": "python",
   "nbconvert_exporter": "python",
   "pygments_lexer": "ipython3",
   "version": "3.11.5"
  },
  "orig_nbformat": 4
 },
 "nbformat": 4,
 "nbformat_minor": 2
}
